{
 "cells": [
  {
   "cell_type": "code",
   "execution_count": 1,
   "metadata": {},
   "outputs": [],
   "source": [
    "## Necessary Imports\n",
    "import tensorflow as tf\n",
    "import numpy as np\n",
    "import scipy.io"
   ]
  },
  {
   "cell_type": "code",
   "execution_count": 2,
   "metadata": {},
   "outputs": [],
   "source": [
    "## Mean values of the image taken for subtraction during preprocessing\n",
    "IMAGE_MEAN = np.array([123.68 ,  116.779,  103.939])"
   ]
  },
  {
   "cell_type": "code",
   "execution_count": 8,
   "metadata": {},
   "outputs": [],
   "source": [
    "##Defining the VGG Deep Neural Network\n",
    "'''\n",
    "Paraneters:\n",
    "1. path_to_vgg_net : Location of the Pretrained VGG Deep Neural Network\n",
    "2. input_image : image data\n",
    "\n",
    "Getting into the layers,\n",
    "conv are the convolution layers\n",
    "relu is the relu activation function at the end of the convolution layer\n",
    "\n",
    "Function Definitions:\n",
    "1. scipy.io.loadmat(file_name, mdict=None, appendmat=True, **kwargs)\n",
    "    Load MATLAB file.\n",
    "2. enumerate:\n",
    "    Return an enumerate object.  iterable must be another object that supports\n",
    "    iteration.\n",
    "'''\n",
    "def net(path_to_vgg_net, input_image):\n",
    "\n",
    "    layers = (\n",
    "        'conv1_1', 'relu1_1', 'conv1_2', 'relu1_2', 'pool1',\n",
    "\n",
    "        'conv2_1', 'relu2_1', 'conv2_2', 'relu2_2', 'pool2',\n",
    "\n",
    "        'conv3_1', 'relu3_1', 'conv3_2', 'relu3_2', 'conv3_3',\n",
    "        'relu3_3', 'conv3_4', 'relu3_4', 'pool3',\n",
    "\n",
    "        'conv4_1', 'relu4_1', 'conv4_2', 'relu4_2', 'conv4_3',\n",
    "        'relu4_3', 'conv4_4', 'relu4_4', 'pool4',\n",
    "\n",
    "        'conv5_1', 'relu5_1', 'conv5_2', 'relu5_2', 'conv5_3',\n",
    "        'relu5_3', 'conv5_4', 'relu5_4'\n",
    "    )\n",
    "\n",
    "    data = scipy.io.loadmat(path_to_vgg_net)\n",
    "    weights = data['layers'][0]\n",
    "\n",
    "    net = {}\n",
    "    current = input_image\n",
    "    for i, name in enumerate(layers):\n",
    "        layer_type = name[:4]\n",
    "        if layer_type == 'conv':\n",
    "            kernels, bias = weights[i][0][0][0][0]\n",
    "            kernels = np.transpose(kernels, (1, 0, 2, 3))\n",
    "            bias = bias.reshape(-1)\n",
    "            current = _conv_layer(current, kernels, bias)\n",
    "        elif layer_type == 'relu':\n",
    "            current = tf.nn.relu(current)\n",
    "        elif layer_type == 'pool':\n",
    "            current = _pool_layer(current)\n",
    "        net[name] = current\n",
    "\n",
    "    return net"
   ]
  },
  {
   "cell_type": "code",
   "execution_count": 9,
   "metadata": {},
   "outputs": [],
   "source": [
    "## Defining the convolution layer\n",
    "'''\n",
    "Parameters:\n",
    "1. weights: A weight decides how much influence the input will have on the output.\n",
    "2. bias: It is an additional parameter in the Neural Network which is used to adjust the output\n",
    "         along with the weighted sum of the inputs to the neuron.\n",
    "         \n",
    "Function Definitions:\n",
    "1. tf.nn.conv2d: Computes a 2-D convolution given 4-D `input` and `filter` tensors.\n",
    "2. tf.nn.bias_add: Adds `bias` to `value`\n",
    "'''\n",
    "\n",
    "def _conv_layer(input, weights, bias):\n",
    "    conv = tf.nn.conv2d(input, tf.constant(weights), strides=(1, 1, 1, 1), padding='SAME')\n",
    "    return tf.nn.bias_add(conv, bias)"
   ]
  },
  {
   "cell_type": "code",
   "execution_count": 10,
   "metadata": {},
   "outputs": [],
   "source": [
    "## Dening the Pooling layer\n",
    "# Here we use Max Pool with 'SAME' padding\n",
    "'''\n",
    "Function Definitions:\n",
    "1. tf.nn.max_pool: \n",
    "    Performs the max pooling on the input.\n",
    "\n",
    "    Args:\n",
    "      value: A 4-D `Tensor` with shape `[batch, height, width, channels]` and\n",
    "        type `tf.float32`.\n",
    "      ksize: A list of ints that has length >= 4.  The size of the window for\n",
    "        each dimension of the input tensor.\n",
    "      strides: A list of ints that has length >= 4.  The stride of the sliding\n",
    "        window for each dimension of the input tensor.\n",
    "      padding: A string, either `'VALID'` or `'SAME'`. The padding algorithm.\n",
    "        See the @{tf.nn.convolution$comment here}\n",
    "      data_format: A string. 'NHWC' and 'NCHW' are supported.\n",
    "      name: Optional name for the operation.\n",
    "\n",
    "    Returns:\n",
    "      A `Tensor` with type `tf.float32`.  The max pooled output tensor.\n",
    "\n",
    "'''\n",
    "def _pool_layer(input):\n",
    "    return tf.nn.max_pool(input, ksize=(1, 2, 2, 1), strides=(1, 2, 2, 1), padding='SAME')"
   ]
  },
  {
   "cell_type": "code",
   "execution_count": 6,
   "metadata": {},
   "outputs": [],
   "source": [
    "## Function to preprocess the image\n",
    "def preprocess(image):\n",
    "    return image - IMAGE_MEAN"
   ]
  }
 ],
 "metadata": {
  "kernelspec": {
   "display_name": "Python 3",
   "language": "python",
   "name": "python3"
  },
  "language_info": {
   "codemirror_mode": {
    "name": "ipython",
    "version": 3
   },
   "file_extension": ".py",
   "mimetype": "text/x-python",
   "name": "python",
   "nbconvert_exporter": "python",
   "pygments_lexer": "ipython3",
   "version": "3.6.7"
  }
 },
 "nbformat": 4,
 "nbformat_minor": 2
}
